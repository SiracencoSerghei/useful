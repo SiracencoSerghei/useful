{
 "cells": [
  {
   "cell_type": "code",
   "execution_count": null,
   "metadata": {},
   "outputs": [],
   "source": [
    "\"\"\"This module contains a simple hello function.\"\"\"\n",
    "\n",
    "\n",
    "def hello():\n",
    "    \"\"\"Print 'Hello World!' to the console.\"\"\"\n",
    "    print(\"Hello World!\")"
   ]
  }
 ],
 "metadata": {
  "language_info": {
   "name": "python"
  }
 },
 "nbformat": 4,
 "nbformat_minor": 2
}
