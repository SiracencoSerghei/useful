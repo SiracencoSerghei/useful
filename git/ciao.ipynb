{
 "cells": [
  {
   "cell_type": "code",
   "execution_count": null,
   "metadata": {},
   "outputs": [],
   "source": [
    "\"\"\"\n",
    "Module documentation goes here\n",
    "\"\"\"\n",
    "\n",
    "\n",
    "def hello():\n",
    "    \"\"\"\n",
    "    Function documentation goes here.\n",
    "    \"\"\"\n",
    "    print(\"Hello World!\")\n"
   ]
  }
 ],
 "metadata": {
  "language_info": {
   "name": "python"
  }
 },
 "nbformat": 4,
 "nbformat_minor": 2
}
